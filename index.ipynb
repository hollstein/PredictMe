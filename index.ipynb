{
 "cells": [
  {
   "cell_type": "code",
   "execution_count": null,
   "metadata": {},
   "outputs": [],
   "source": [
    "import requests\n",
    "import json\n",
    "import pandas as pd"
   ]
  },
  {
   "cell_type": "code",
   "execution_count": null,
   "metadata": {},
   "outputs": [],
   "source": [
    "client = requests.session()\n",
    "headers = {\n",
    "\"Authorization\": \"bearer %s\" % \"09qPXWqFCMBh5nrgYL8-VPQWOp0kSF3a3Pe9u72QCwPJPWZbMIZVs7J48kyt3DKAkT7GEQrdUrhtN0gbmiWsOIJt7T1Q1ZX04RG5f9QITnqriiEedzIZFBZ9ACHSIZ17\",\n",
    "\"Content-Type\": \"application/json\"\n",
    "}\n",
    "\n",
    "data = {}\n",
    "\n",
    "HOST = \"https://api.surveymonkey.net\"\n",
    "SURVEY_LIST_ENDPOINT = \"/v3/surveys\"\n",
    "\n",
    "uri = \"%s%s\" % (HOST, SURVEY_LIST_ENDPOINT)\n",
    "\n",
    "response = client.get(uri, headers=headers)\n",
    "\n",
    "response_json = response.json()\n",
    "\n",
    "for line in response_json[\"data\"]:\n",
    "    print(line)"
   ]
  }
 ],
 "metadata": {
  "celltoolbar": "Slideshow",
  "kernelspec": {
   "display_name": "Python 3",
   "language": "python",
   "name": "python3"
  },
  "language_info": {
   "codemirror_mode": {
    "name": "ipython",
    "version": 3
   },
   "file_extension": ".py",
   "mimetype": "text/x-python",
   "name": "python",
   "nbconvert_exporter": "python",
   "pygments_lexer": "ipython3",
   "version": "3.7.3"
  },
  "livereveal": {
   "autolaunch": true,
   "scroll": true
  }
 },
 "nbformat": 4,
 "nbformat_minor": 2
}
